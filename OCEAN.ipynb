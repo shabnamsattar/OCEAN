{
  "nbformat": 4,
  "nbformat_minor": 0,
  "metadata": {
    "colab": {
      "provenance": [],
      "authorship_tag": "ABX9TyMo/fkUzY5wjBcd9o9Qo4rQ",
      "include_colab_link": true
    },
    "kernelspec": {
      "name": "python3",
      "display_name": "Python 3"
    },
    "language_info": {
      "name": "python"
    }
  },
  "cells": [
    {
      "cell_type": "markdown",
      "metadata": {
        "id": "view-in-github",
        "colab_type": "text"
      },
      "source": [
        "<a href=\"https://colab.research.google.com/github/shabnamsattar/OCEAN/blob/main/OCEAN.ipynb\" target=\"_parent\"><img src=\"https://colab.research.google.com/assets/colab-badge.svg\" alt=\"Open In Colab\"/></a>"
      ]
    },
    {
      "cell_type": "code",
      "source": [
        "import os\n",
        "import numpy as np"
      ],
      "metadata": {
        "id": "8fSPqtTtGfMc"
      },
      "execution_count": 1,
      "outputs": []
    },
    {
      "cell_type": "code",
      "execution_count": 2,
      "metadata": {
        "colab": {
          "base_uri": "https://localhost:8080/"
        },
        "id": "qUgMiMFqGRyB",
        "outputId": "08094fc8-39ad-4cd5-d47f-e3b856691c5b"
      },
      "outputs": [
        {
          "output_type": "stream",
          "name": "stdout",
          "text": [
            "Cloning into 'OCEAN'...\n",
            "remote: Enumerating objects: 524, done.\u001b[K\n",
            "remote: Counting objects: 100% (226/226), done.\u001b[K\n",
            "remote: Compressing objects: 100% (187/187), done.\u001b[K\n",
            "remote: Total 524 (delta 112), reused 39 (delta 39), pack-reused 298 (from 3)\u001b[K\n",
            "Receiving objects: 100% (524/524), 15.60 MiB | 10.17 MiB/s, done.\n",
            "Resolving deltas: 100% (180/180), done.\n",
            "Updating files: 100% (218/218), done.\n",
            "/content/OCEAN\n"
          ]
        }
      ],
      "source": [
        "!git clone https://github.com/shabnamsattar/OCEAN.git\n",
        "%cd OCEAN"
      ]
    },
    {
      "cell_type": "code",
      "source": [
        "# Gurobi licence\n",
        "os.environ[\"GRB_LICENSE_FILE\"] = \"/content/gurobi.lic\""
      ],
      "metadata": {
        "id": "EGJYWBs5Gccs"
      },
      "execution_count": 3,
      "outputs": []
    },
    {
      "cell_type": "code",
      "source": [
        "!pip install -q -r requirements.txt\n",
        "!pip install -q gurobipy\n",
        "!pip install -q -e ."
      ],
      "metadata": {
        "colab": {
          "base_uri": "https://localhost:8080/"
        },
        "id": "Mpu0MZFWGliF",
        "outputId": "bdb6407a-9659-4d4b-fb91-e4dd7e212d3c"
      },
      "execution_count": 4,
      "outputs": [
        {
          "output_type": "stream",
          "name": "stdout",
          "text": [
            "\u001b[31mERROR: Ignored the following versions that require a different python version: 1.21.2 Requires-Python >=3.7,<3.11; 1.21.3 Requires-Python >=3.7,<3.11; 1.21.4 Requires-Python >=3.7,<3.11; 1.21.5 Requires-Python >=3.7,<3.11; 1.21.6 Requires-Python >=3.7,<3.11\u001b[0m\u001b[31m\n",
            "\u001b[0m\u001b[31mERROR: Could not find a version that satisfies the requirement numpy==1.21.5 (from versions: 1.3.0, 1.4.1, 1.5.0, 1.5.1, 1.6.0, 1.6.1, 1.6.2, 1.7.0, 1.7.1, 1.7.2, 1.8.0, 1.8.1, 1.8.2, 1.9.0, 1.9.1, 1.9.2, 1.9.3, 1.10.0.post2, 1.10.1, 1.10.2, 1.10.4, 1.11.0, 1.11.1, 1.11.2, 1.11.3, 1.12.0, 1.12.1, 1.13.0, 1.13.1, 1.13.3, 1.14.0, 1.14.1, 1.14.2, 1.14.3, 1.14.4, 1.14.5, 1.14.6, 1.15.0, 1.15.1, 1.15.2, 1.15.3, 1.15.4, 1.16.0, 1.16.1, 1.16.2, 1.16.3, 1.16.4, 1.16.5, 1.16.6, 1.17.0, 1.17.1, 1.17.2, 1.17.3, 1.17.4, 1.17.5, 1.18.0, 1.18.1, 1.18.2, 1.18.3, 1.18.4, 1.18.5, 1.19.0, 1.19.1, 1.19.2, 1.19.3, 1.19.4, 1.19.5, 1.20.0, 1.20.1, 1.20.2, 1.20.3, 1.21.0, 1.21.1, 1.22.0, 1.22.1, 1.22.2, 1.22.3, 1.22.4, 1.23.0, 1.23.1, 1.23.2, 1.23.3, 1.23.4, 1.23.5, 1.24.0, 1.24.1, 1.24.2, 1.24.3, 1.24.4, 1.25.0, 1.25.1, 1.25.2, 1.26.0, 1.26.1, 1.26.2, 1.26.3, 1.26.4, 2.0.0, 2.0.1, 2.0.2, 2.1.0, 2.1.1, 2.1.2, 2.1.3, 2.2.0, 2.2.1, 2.2.2, 2.2.3, 2.2.4, 2.2.5, 2.2.6, 2.3.0, 2.3.1, 2.3.2)\u001b[0m\u001b[31m\n",
            "\u001b[0m\u001b[31mERROR: No matching distribution found for numpy==1.21.5\u001b[0m\u001b[31m\n",
            "\u001b[2K   \u001b[90m━━━━━━━━━━━━━━━━━━━━━━━━━━━━━━━━━━━━━━━━\u001b[0m \u001b[32m14.5/14.5 MB\u001b[0m \u001b[31m95.1 MB/s\u001b[0m eta \u001b[36m0:00:00\u001b[0m\n",
            "\u001b[?25h  Installing build dependencies ... \u001b[?25l\u001b[?25hdone\n",
            "  Checking if build backend supports build_editable ... \u001b[?25l\u001b[?25hdone\n",
            "  Getting requirements to build editable ... \u001b[?25l\u001b[?25hdone\n",
            "  Preparing editable metadata (pyproject.toml) ... \u001b[?25l\u001b[?25hdone\n",
            "  Building editable for OCEAN (pyproject.toml) ... \u001b[?25l\u001b[?25hdone\n"
          ]
        }
      ]
    },
    {
      "cell_type": "code",
      "source": [
        "from sklearn.ensemble import IsolationForest\n",
        "from src.DatasetReader import DatasetReader\n",
        "from src.IfCounterfactual import IfCounterfactualMilp\n",
        "from src.CounterFactualParameters import FeatureType, FeatureActionnability, TreeConstraintsType, BinaryDecisionVariables\n",
        "\n",
        "\n",
        "reader = DatasetReader(\"datasets/wine.csv\")\n",
        "X = reader.X.values\n",
        "\n",
        "# Train IF\n",
        "ilf = IsolationForest(random_state=1, max_samples=min(256, len(X)), n_estimators=100, contamination=0.1)\n",
        "ilf.fit(X)\n",
        "\n",
        "# Pick an outlier x0 (taking one predicted as outlier by the model)\n",
        "preds = ilf.predict(X)            # 1=inlier, -1=outlier\n",
        "outlier_idx = int(np.where(preds == -1)[0][2])\n",
        "x0 = [X[outlier_idx]]\n",
        "\n",
        "# Building a Counterfactual(goal: become inlier)\n",
        "milp = IfCounterfactualMilp(\n",
        "    isolationForest=ilf,\n",
        "    sample=x0,\n",
        "    objectiveNorm=1,   #L1\n",
        "    verbose=False,\n",
        "    featuresType=reader.featuresType,\n",
        "    featuresPossibleValues=reader.featuresPossibleValues,\n",
        "    featuresActionnability=reader.featuresActionnability,\n",
        "    oneHotEncoding=reader.oneHotEncoding,\n",
        "    constraintsType=TreeConstraintsType.LinearCombinationOfPlanes,\n",
        "    binaryDecisionVariables=BinaryDecisionVariables.PathFlow_y\n",
        ")\n",
        "\n",
        "milp.buildModel(decision_threshold=0.0)\n",
        "cf = milp.solveModel(time_limit=300, threads=4)\n",
        "\n",
        "print(\"Solved:\", cf)\n",
        "print(\"x0 predicted:\", ilf.predict(np.array(x0))[0])  # expected -1\n",
        "print(\"x' predicted:\", ilf.predict(np.array(milp.x_sol))[0])  # expected  1\n",
        "\n",
        "\n",
        "# show both original and counterfactual in original scale\n",
        "x0_orig  = reader.format_explanation([x0[0]])      # decode + unscale x0\n",
        "xcf_orig = reader.format_explanation(milp.x_sol)   # decode + unscale x'\n",
        "\n",
        "print(\"Original (original scale):     \", x0_orig)\n",
        "print(\"Counterfactual (original scale):\", xcf_orig)\n"
      ],
      "metadata": {
        "colab": {
          "base_uri": "https://localhost:8080/"
        },
        "id": "Ccs345z0Gs2A",
        "outputId": "33638b5a-caef-4bc6-94f2-9eed2e994581"
      },
      "execution_count": 16,
      "outputs": [
        {
          "output_type": "stream",
          "name": "stdout",
          "text": [
            "Set parameter WLSAccessID\n",
            "Set parameter WLSSecret\n",
            "Set parameter LicenseID to value 2689274\n",
            "Academic license 2689274 - for non-commercial use only - registered to sh___@studenti.unipd.it\n",
            "Solved: True\n",
            "x0 predicted: -1\n",
            "x' predicted: 1\n",
            "Original (original scale):      [[1.42e+01 1.76e+00 2.45e+00 1.52e+01 1.12e+02 3.27e+00 3.39e+00 3.40e-01\n",
            "  1.97e+00 6.75e+00 1.05e+00 2.85e+00 1.45e+03]]\n",
            "Counterfactual (original scale): [[1.42000000e+01 1.76000000e+00 2.45000000e+00 1.68039499e+01\n",
            "  1.10000000e+02 3.22454323e+00 3.33355460e+00 3.40000000e-01\n",
            "  1.97000000e+00 6.63213313e+00 1.05359380e+00 2.85000000e+00\n",
            "  1.45000000e+03]]\n"
          ]
        }
      ]
    },
    {
      "cell_type": "code",
      "source": [
        "from sklearn.ensemble import IsolationForest\n",
        "from src.DatasetReader import DatasetReader\n",
        "from src.IfCounterfactual import IfCounterfactualMilp\n",
        "from src.CounterFactualParameters import FeatureType, FeatureActionnability, TreeConstraintsType, BinaryDecisionVariables\n",
        "\n",
        "\n",
        "reader = DatasetReader(\"datasets/cardio.csv\")\n",
        "X = reader.X.values\n",
        "\n",
        "# Train IF\n",
        "ilf = IsolationForest(random_state=1, max_samples=min(256, len(X)), n_estimators=100, contamination=0.1)\n",
        "ilf.fit(X)\n",
        "\n",
        "# Pick an outlier x0 (taking one predicted as outlier by the model)\n",
        "preds = ilf.predict(X)            # 1=inlier, -1=outlier\n",
        "outlier_idx = int(np.where(preds == -1)[0][0])\n",
        "x0 = [X[outlier_idx]]\n",
        "\n",
        "# Building a Counterfactual(goal: become inlier)\n",
        "milp = IfCounterfactualMilp(\n",
        "    isolationForest=ilf,\n",
        "    sample=x0,\n",
        "    objectiveNorm=1,   #L1\n",
        "    verbose=False,\n",
        "    featuresType=reader.featuresType,\n",
        "    featuresPossibleValues=reader.featuresPossibleValues,\n",
        "    featuresActionnability=reader.featuresActionnability,\n",
        "    oneHotEncoding=reader.oneHotEncoding,\n",
        "    constraintsType=TreeConstraintsType.LinearCombinationOfPlanes,\n",
        "    binaryDecisionVariables=BinaryDecisionVariables.PathFlow_y\n",
        ")\n",
        "\n",
        "milp.buildModel(decision_threshold=0.0)\n",
        "cf = milp.solveModel(time_limit=300, threads=4)\n",
        "\n",
        "print(\"Solved:\", cf)\n",
        "print(\"x0 predicted:\", ilf.predict(np.array(x0))[0])  # expected -1\n",
        "print(\"x' predicted:\", ilf.predict(np.array(milp.x_sol))[0])  # expected  1\n",
        "\n",
        "\n",
        "# show both original and counterfactual in original scale\n",
        "x0_orig  = reader.format_explanation([x0[0]])      # decode + unscale x0\n",
        "xcf_orig = reader.format_explanation(milp.x_sol)   # decode + unscale x'\n",
        "\n",
        "print(\"Original (original scale):     \", x0_orig)\n",
        "print(\"Counterfactual (original scale):\", xcf_orig)\n"
      ],
      "metadata": {
        "colab": {
          "base_uri": "https://localhost:8080/"
        },
        "id": "pnGoQxKxKOoj",
        "outputId": "68064d61-417a-4e3d-a685-4821c2eb0302"
      },
      "execution_count": 5,
      "outputs": [
        {
          "output_type": "stream",
          "name": "stdout",
          "text": [
            "Set parameter WLSAccessID\n",
            "Set parameter WLSSecret\n",
            "Set parameter LicenseID to value 2689274\n",
            "Academic license 2689274 - for non-commercial use only - registered to sh___@studenti.unipd.it\n",
            "Solved: True\n",
            "x0 predicted: -1\n",
            "x' predicted: 1\n",
            "Original (original scale):      [[-0.20672176  0.55629255  8.3946632  -0.17740764  0.94292225 -0.06140064\n",
            "   1.10441598 -1.41114256  0.99069677 -0.42048735 -0.0533886   0.87701669\n",
            "  -0.83401339  0.53469408  0.9666375  -0.48827889  0.4216955  -0.50921552\n",
            "  -0.11333832  1.8478356  -0.49329397]]\n",
            "Counterfactual (original scale): [[-0.20672176  0.55629255  8.3946632  -0.17740764  0.94292225 -0.06140064\n",
            "   1.10441598 -1.41114256  0.99069677 -0.42048735 -0.0533886   0.87701669\n",
            "  -0.83401339  0.53469408  1.01086897 -0.48827889  0.34913677 -0.50921552\n",
            "  -0.04691325  1.8478356  -0.49329397]]\n"
          ]
        }
      ]
    },
    {
      "cell_type": "code",
      "source": [
        "ilf.score_samples(milp.x_sol)"
      ],
      "metadata": {
        "colab": {
          "base_uri": "https://localhost:8080/"
        },
        "id": "W0ee_1GuLgCL",
        "outputId": "2f1dc277-7dca-49fe-ea51-4161343a4d3a"
      },
      "execution_count": 8,
      "outputs": [
        {
          "output_type": "execute_result",
          "data": {
            "text/plain": [
              "array([-0.50390731])"
            ]
          },
          "metadata": {},
          "execution_count": 8
        }
      ]
    },
    {
      "cell_type": "code",
      "source": [
        "ilf.decision_function(milp.x_sol)"
      ],
      "metadata": {
        "colab": {
          "base_uri": "https://localhost:8080/"
        },
        "id": "ZOKFaCd_Lu6N",
        "outputId": "62d2e796-ec52-499f-f2e1-a74269afeff6"
      },
      "execution_count": 9,
      "outputs": [
        {
          "output_type": "execute_result",
          "data": {
            "text/plain": [
              "array([4.79428808e-05])"
            ]
          },
          "metadata": {},
          "execution_count": 9
        }
      ]
    },
    {
      "cell_type": "code",
      "source": [
        "ilf.score_samples(x0)"
      ],
      "metadata": {
        "colab": {
          "base_uri": "https://localhost:8080/"
        },
        "id": "__wU1AGpL6Fo",
        "outputId": "e7ba564c-75a7-4435-a7f8-185771044f40"
      },
      "execution_count": 10,
      "outputs": [
        {
          "output_type": "execute_result",
          "data": {
            "text/plain": [
              "array([-0.51080724])"
            ]
          },
          "metadata": {},
          "execution_count": 10
        }
      ]
    },
    {
      "cell_type": "code",
      "source": [
        "ilf.decision_function(x0)"
      ],
      "metadata": {
        "colab": {
          "base_uri": "https://localhost:8080/"
        },
        "id": "QRre-62mL_RU",
        "outputId": "b1e1af31-1a0f-4aa2-a044-7aee07e2986c"
      },
      "execution_count": 11,
      "outputs": [
        {
          "output_type": "execute_result",
          "data": {
            "text/plain": [
              "array([-0.00685198])"
            ]
          },
          "metadata": {},
          "execution_count": 11
        }
      ]
    }
  ]
}